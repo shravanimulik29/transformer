{
 "cells": [
  {
   "cell_type": "code",
   "execution_count": 40,
   "id": "790c6c3f",
   "metadata": {},
   "outputs": [],
   "source": [
    "corpus_of_documents = [\n",
    "    \"Take a leisurely walk in the park and enjoy the fresh air.\",\n",
    "    \"Visit a local museum and discover something new.\",\n",
    "    \"Attend a live music concert and feel the rhythm.\",\n",
    "    \"Go for a hike and admire the natural scenery.\",\n",
    "    \"Have a picnic with friends and share some laughs.\",\n",
    "    \"Explore a new cuisine by dining at an ethnic restaurant.\",\n",
    "    \"Take a yoga class and stretch your body and mind.\",\n",
    "    \"Join a local sports league and enjoy some friendly competition.\",\n",
    "    \"Attend a workshop or lecture on a topic you're interested in.\",\n",
    "    \"Visit an amusement park and ride the roller coasters.\"\n",
    "]\n"
   ]
  },
  {
   "cell_type": "code",
   "execution_count": 41,
   "id": "0189e25c",
   "metadata": {},
   "outputs": [
    {
     "data": {
      "text/plain": [
       "['Take a leisurely walk in the park and enjoy the fresh air.',\n",
       " 'Visit a local museum and discover something new.',\n",
       " 'Attend a live music concert and feel the rhythm.',\n",
       " 'Go for a hike and admire the natural scenery.',\n",
       " 'Have a picnic with friends and share some laughs.',\n",
       " 'Explore a new cuisine by dining at an ethnic restaurant.',\n",
       " 'Take a yoga class and stretch your body and mind.',\n",
       " 'Join a local sports league and enjoy some friendly competition.',\n",
       " \"Attend a workshop or lecture on a topic you're interested in.\",\n",
       " 'Visit an amusement park and ride the roller coasters.']"
      ]
     },
     "execution_count": 41,
     "metadata": {},
     "output_type": "execute_result"
    }
   ],
   "source": [
    "corpus_of_documents"
   ]
  },
  {
   "cell_type": "code",
   "execution_count": 77,
   "id": "44429198",
   "metadata": {},
   "outputs": [],
   "source": [
    "user_query = \"i am an indian and i live in india\""
   ]
  },
  {
   "cell_type": "code",
   "execution_count": 78,
   "id": "e3c996d3",
   "metadata": {},
   "outputs": [],
   "source": [
    "document = \"india is a country for the indians and for everyone\""
   ]
  },
  {
   "cell_type": "code",
   "execution_count": 44,
   "id": "4f5a4325",
   "metadata": {},
   "outputs": [],
   "source": [
    "from collections import Counter\n",
    "import math"
   ]
  },
  {
   "cell_type": "code",
   "execution_count": 45,
   "id": "0fb21bbb",
   "metadata": {},
   "outputs": [],
   "source": [
    "query_tokens = user_query.lower().split(\" \")"
   ]
  },
  {
   "cell_type": "code",
   "execution_count": 46,
   "id": "9cd182ea",
   "metadata": {},
   "outputs": [
    {
     "data": {
      "text/plain": [
       "['i', 'am', 'an', 'indian', 'and', 'i', 'live', 'in', 'india']"
      ]
     },
     "execution_count": 46,
     "metadata": {},
     "output_type": "execute_result"
    }
   ],
   "source": [
    "query_tokens"
   ]
  },
  {
   "cell_type": "code",
   "execution_count": 47,
   "id": "85d3b486",
   "metadata": {},
   "outputs": [],
   "source": [
    "document_tokens = document.lower().split(\" \")"
   ]
  },
  {
   "cell_type": "code",
   "execution_count": 48,
   "id": "76f1f176",
   "metadata": {},
   "outputs": [
    {
     "data": {
      "text/plain": [
       "['india',\n",
       " 'is',\n",
       " 'a',\n",
       " 'country',\n",
       " 'for',\n",
       " 'the',\n",
       " 'indians',\n",
       " 'and',\n",
       " 'for',\n",
       " 'everyone']"
      ]
     },
     "execution_count": 48,
     "metadata": {},
     "output_type": "execute_result"
    }
   ],
   "source": [
    "document_tokens"
   ]
  },
  {
   "cell_type": "code",
   "execution_count": 49,
   "id": "1c5524e0",
   "metadata": {},
   "outputs": [],
   "source": [
    "query_counter = Counter(query_tokens)"
   ]
  },
  {
   "cell_type": "code",
   "execution_count": 50,
   "id": "c8f471c0",
   "metadata": {},
   "outputs": [
    {
     "data": {
      "text/plain": [
       "Counter({'i': 2,\n",
       "         'am': 1,\n",
       "         'an': 1,\n",
       "         'indian': 1,\n",
       "         'and': 1,\n",
       "         'live': 1,\n",
       "         'in': 1,\n",
       "         'india': 1})"
      ]
     },
     "execution_count": 50,
     "metadata": {},
     "output_type": "execute_result"
    }
   ],
   "source": [
    "query_counter"
   ]
  },
  {
   "cell_type": "code",
   "execution_count": 51,
   "id": "93c9227a",
   "metadata": {},
   "outputs": [],
   "source": [
    "document_counter = Counter(document_tokens)"
   ]
  },
  {
   "cell_type": "code",
   "execution_count": 52,
   "id": "6d47d7ee",
   "metadata": {},
   "outputs": [
    {
     "data": {
      "text/plain": [
       "Counter({'for': 2,\n",
       "         'india': 1,\n",
       "         'is': 1,\n",
       "         'a': 1,\n",
       "         'country': 1,\n",
       "         'the': 1,\n",
       "         'indians': 1,\n",
       "         'and': 1,\n",
       "         'everyone': 1})"
      ]
     },
     "execution_count": 52,
     "metadata": {},
     "output_type": "execute_result"
    }
   ],
   "source": [
    "document_counter"
   ]
  },
  {
   "cell_type": "code",
   "execution_count": 53,
   "id": "68032f94",
   "metadata": {},
   "outputs": [],
   "source": [
    "lst=[]\n",
    "\n",
    "for token in query_counter.keys():\n",
    "    lst.append(query_counter[token])"
   ]
  },
  {
   "cell_type": "code",
   "execution_count": 54,
   "id": "be5bc83d",
   "metadata": {},
   "outputs": [
    {
     "data": {
      "text/plain": [
       "[2, 1, 1, 1, 1, 1, 1, 1]"
      ]
     },
     "execution_count": 54,
     "metadata": {},
     "output_type": "execute_result"
    }
   ],
   "source": [
    "#sentence vector\n",
    "lst"
   ]
  },
  {
   "cell_type": "code",
   "execution_count": 59,
   "id": "830319b9",
   "metadata": {},
   "outputs": [
    {
     "name": "stdout",
     "output_type": "stream",
     "text": [
      "india\n",
      "and\n"
     ]
    }
   ],
   "source": [
    "for tokens in query_counter.keys() & document_counter.keys():\n",
    "    print(tokens)"
   ]
  },
  {
   "cell_type": "code",
   "execution_count": 60,
   "id": "5712b474",
   "metadata": {},
   "outputs": [],
   "source": [
    "mylist=[]\n",
    "\n",
    "for tokens in query_counter.keys() & document_counter.keys():\n",
    "    mylist.append(query_counter[tokens]*document_counter[tokens])"
   ]
  },
  {
   "cell_type": "code",
   "execution_count": 58,
   "id": "4f638817",
   "metadata": {},
   "outputs": [
    {
     "data": {
      "text/plain": [
       "[1, 1]"
      ]
     },
     "execution_count": 58,
     "metadata": {},
     "output_type": "execute_result"
    }
   ],
   "source": [
    "mylist"
   ]
  },
  {
   "cell_type": "code",
   "execution_count": 68,
   "id": "03ffcf3b",
   "metadata": {},
   "outputs": [],
   "source": [
    "dot_prod = sum(mylist)"
   ]
  },
  {
   "cell_type": "code",
   "execution_count": 64,
   "id": "602642d3",
   "metadata": {},
   "outputs": [],
   "source": [
    "query_magnitude = math.sqrt(sum(query_counter[token]**2 for token in query_counter))"
   ]
  },
  {
   "cell_type": "code",
   "execution_count": 65,
   "id": "491b2e16",
   "metadata": {},
   "outputs": [
    {
     "data": {
      "text/plain": [
       "3.3166247903554"
      ]
     },
     "execution_count": 65,
     "metadata": {},
     "output_type": "execute_result"
    }
   ],
   "source": [
    "query_magnitude"
   ]
  },
  {
   "cell_type": "code",
   "execution_count": 66,
   "id": "3d3ef580",
   "metadata": {},
   "outputs": [],
   "source": [
    "document_magnitude = math.sqrt(sum(document_counter[token]**2 for token in document_counter))"
   ]
  },
  {
   "cell_type": "code",
   "execution_count": 67,
   "id": "b4e2bae5",
   "metadata": {},
   "outputs": [
    {
     "data": {
      "text/plain": [
       "3.4641016151377544"
      ]
     },
     "execution_count": 67,
     "metadata": {},
     "output_type": "execute_result"
    }
   ],
   "source": [
    "document_magnitude"
   ]
  },
  {
   "cell_type": "code",
   "execution_count": 69,
   "id": "d31a45e1",
   "metadata": {},
   "outputs": [],
   "source": [
    "similarity = (dot_prod)/(query_magnitude*document_magnitude)"
   ]
  },
  {
   "cell_type": "code",
   "execution_count": 70,
   "id": "4051cadb",
   "metadata": {},
   "outputs": [
    {
     "data": {
      "text/plain": [
       "0.17407765595569785"
      ]
     },
     "execution_count": 70,
     "metadata": {},
     "output_type": "execute_result"
    }
   ],
   "source": [
    "similarity"
   ]
  },
  {
   "cell_type": "code",
   "execution_count": 71,
   "id": "ab320ef2",
   "metadata": {},
   "outputs": [],
   "source": [
    "user_query=\"is yoga good for health\"\n",
    "document = \"yoga is very good for living healthy lifestyle\""
   ]
  },
  {
   "cell_type": "code",
   "execution_count": 91,
   "id": "6fa120c7",
   "metadata": {},
   "outputs": [],
   "source": [
    "def cosine_similarity(query,document):\n",
    "    #create tokens\n",
    "    query_tokens = query.lower().split(\" \")\n",
    "    document_tokens = document.lower().split(\" \")\n",
    "\n",
    "    #create counters\n",
    "    query_counter = Counter(query_tokens)\n",
    "    document_counter = Counter(document_tokens)\n",
    "\n",
    "    #calculate dot product\n",
    "    dot_prod = sum(query_counter[token]*document_counter[token] for token in query_counter.keys() & document_counter.keys())\n",
    "\n",
    "    #calculate magitudes\n",
    "    query_magnitude = math.sqrt(sum(query_counter[token] **2 for token in query_counter))\n",
    "    document_magnitude  = math.sqrt(sum(document_counter[token] **2 for token in document_counter))\n",
    "\n",
    "    #calculte similarity\n",
    "    similarity= dot_prod/(query_magnitude*document_magnitude) if query_magnitude * document_magnitude !=0 else 0\n",
    "\n",
    "    return similarity"
   ]
  },
  {
   "cell_type": "code",
   "execution_count": 92,
   "id": "71629ba7",
   "metadata": {},
   "outputs": [],
   "source": [
    "user_query2=\"is yoga good for health\"\n",
    "document2 = \"yoga is very good for living healthy lifestyle\""
   ]
  },
  {
   "cell_type": "code",
   "execution_count": 93,
   "id": "290217b1",
   "metadata": {},
   "outputs": [
    {
     "data": {
      "text/plain": [
       "0.6324555320336759"
      ]
     },
     "execution_count": 93,
     "metadata": {},
     "output_type": "execute_result"
    }
   ],
   "source": [
    "cosine_similarity(user_query2,document2)"
   ]
  },
  {
   "cell_type": "code",
   "execution_count": 94,
   "id": "70dc268e",
   "metadata": {},
   "outputs": [],
   "source": [
    "def return_response(query,corpus):\n",
    "    similarities = []\n",
    "    for doc in corpus:\n",
    "        similarity = cosine_similarity(query,doc)\n",
    "        similarities.append(similarity)\n",
    "    return corpus_of_documents[similarities.index(max(similarities))]"
   ]
  },
  {
   "cell_type": "code",
   "execution_count": 101,
   "id": "0e1382ee",
   "metadata": {},
   "outputs": [],
   "source": [
    "user_input=\"i like to do yoga\"\n"
   ]
  },
  {
   "cell_type": "code",
   "execution_count": 103,
   "id": "94d34acd",
   "metadata": {},
   "outputs": [],
   "source": [
    "relevant_document=return_response(user_input,corpus_of_documents)"
   ]
  },
  {
   "cell_type": "code",
   "execution_count": null,
   "id": "8c17694d",
   "metadata": {},
   "outputs": [],
   "source": [
    "#agumented the response"
   ]
  },
  {
   "cell_type": "code",
   "execution_count": 112,
   "id": "88012527",
   "metadata": {},
   "outputs": [
    {
     "name": "stdout",
     "output_type": "stream",
     "text": [
      "line is  b'{\"model\":\"llama2\",\"created_at\":\"2025-06-23T13:44:52.526511Z\",\"response\":\" Great\",\"done\":false}'\n",
      "decoded line is  {'model': 'llama2', 'created_at': '2025-06-23T13:44:52.526511Z', 'response': ' Great', 'done': False}\n",
      "line is  b'{\"model\":\"llama2\",\"created_at\":\"2025-06-23T13:44:52.651424Z\",\"response\":\"!\",\"done\":false}'\n",
      "decoded line is  {'model': 'llama2', 'created_at': '2025-06-23T13:44:52.651424Z', 'response': '!', 'done': False}\n",
      "line is  b'{\"model\":\"llama2\",\"created_at\":\"2025-06-23T13:44:52.745648Z\",\"response\":\" Based\",\"done\":false}'\n",
      "decoded line is  {'model': 'llama2', 'created_at': '2025-06-23T13:44:52.745648Z', 'response': ' Based', 'done': False}\n",
      "line is  b'{\"model\":\"llama2\",\"created_at\":\"2025-06-23T13:44:52.852751Z\",\"response\":\" on\",\"done\":false}'\n",
      "decoded line is  {'model': 'llama2', 'created_at': '2025-06-23T13:44:52.852751Z', 'response': ' on', 'done': False}\n",
      "line is  b'{\"model\":\"llama2\",\"created_at\":\"2025-06-23T13:44:52.965343Z\",\"response\":\" your\",\"done\":false}'\n",
      "decoded line is  {'model': 'llama2', 'created_at': '2025-06-23T13:44:52.965343Z', 'response': ' your', 'done': False}\n",
      "line is  b'{\"model\":\"llama2\",\"created_at\":\"2025-06-23T13:44:53.072204Z\",\"response\":\" input\",\"done\":false}'\n",
      "decoded line is  {'model': 'llama2', 'created_at': '2025-06-23T13:44:53.072204Z', 'response': ' input', 'done': False}\n",
      "line is  b'{\"model\":\"llama2\",\"created_at\":\"2025-06-23T13:44:53.183526Z\",\"response\":\",\",\"done\":false}'\n",
      "decoded line is  {'model': 'llama2', 'created_at': '2025-06-23T13:44:53.183526Z', 'response': ',', 'done': False}\n",
      "line is  b'{\"model\":\"llama2\",\"created_at\":\"2025-06-23T13:44:53.356104Z\",\"response\":\" I\",\"done\":false}'\n",
      "decoded line is  {'model': 'llama2', 'created_at': '2025-06-23T13:44:53.356104Z', 'response': ' I', 'done': False}\n",
      "line is  b'{\"model\":\"llama2\",\"created_at\":\"2025-06-23T13:44:53.443604Z\",\"response\":\" recommend\",\"done\":false}'\n",
      "decoded line is  {'model': 'llama2', 'created_at': '2025-06-23T13:44:53.443604Z', 'response': ' recommend', 'done': False}\n",
      "line is  b'{\"model\":\"llama2\",\"created_at\":\"2025-06-23T13:44:53.585623Z\",\"response\":\" taking\",\"done\":false}'\n",
      "decoded line is  {'model': 'llama2', 'created_at': '2025-06-23T13:44:53.585623Z', 'response': ' taking', 'done': False}\n",
      "line is  b'{\"model\":\"llama2\",\"created_at\":\"2025-06-23T13:44:53.78413Z\",\"response\":\" a\",\"done\":false}'\n",
      "decoded line is  {'model': 'llama2', 'created_at': '2025-06-23T13:44:53.78413Z', 'response': ' a', 'done': False}\n",
      "line is  b'{\"model\":\"llama2\",\"created_at\":\"2025-06-23T13:44:54.052063Z\",\"response\":\" y\",\"done\":false}'\n",
      "decoded line is  {'model': 'llama2', 'created_at': '2025-06-23T13:44:54.052063Z', 'response': ' y', 'done': False}\n",
      "line is  b'{\"model\":\"llama2\",\"created_at\":\"2025-06-23T13:44:54.140159Z\",\"response\":\"oga\",\"done\":false}'\n",
      "decoded line is  {'model': 'llama2', 'created_at': '2025-06-23T13:44:54.140159Z', 'response': 'oga', 'done': False}\n",
      "line is  b'{\"model\":\"llama2\",\"created_at\":\"2025-06-23T13:44:54.318224Z\",\"response\":\" class\",\"done\":false}'\n",
      "decoded line is  {'model': 'llama2', 'created_at': '2025-06-23T13:44:54.318224Z', 'response': ' class', 'done': False}\n",
      "line is  b'{\"model\":\"llama2\",\"created_at\":\"2025-06-23T13:44:54.449377Z\",\"response\":\" to\",\"done\":false}'\n",
      "decoded line is  {'model': 'llama2', 'created_at': '2025-06-23T13:44:54.449377Z', 'response': ' to', 'done': False}\n",
      "line is  b'{\"model\":\"llama2\",\"created_at\":\"2025-06-23T13:44:54.622225Z\",\"response\":\" help\",\"done\":false}'\n",
      "decoded line is  {'model': 'llama2', 'created_at': '2025-06-23T13:44:54.622225Z', 'response': ' help', 'done': False}\n",
      "line is  b'{\"model\":\"llama2\",\"created_at\":\"2025-06-23T13:44:54.741471Z\",\"response\":\" you\",\"done\":false}'\n",
      "decoded line is  {'model': 'llama2', 'created_at': '2025-06-23T13:44:54.741471Z', 'response': ' you', 'done': False}\n",
      "line is  b'{\"model\":\"llama2\",\"created_at\":\"2025-06-23T13:44:54.869977Z\",\"response\":\" relax\",\"done\":false}'\n",
      "decoded line is  {'model': 'llama2', 'created_at': '2025-06-23T13:44:54.869977Z', 'response': ' relax', 'done': False}\n",
      "line is  b'{\"model\":\"llama2\",\"created_at\":\"2025-06-23T13:44:54.99798Z\",\"response\":\" and\",\"done\":false}'\n",
      "decoded line is  {'model': 'llama2', 'created_at': '2025-06-23T13:44:54.99798Z', 'response': ' and', 'done': False}\n",
      "line is  b'{\"model\":\"llama2\",\"created_at\":\"2025-06-23T13:44:55.162303Z\",\"response\":\" stretch\",\"done\":false}'\n",
      "decoded line is  {'model': 'llama2', 'created_at': '2025-06-23T13:44:55.162303Z', 'response': ' stretch', 'done': False}\n",
      "line is  b'{\"model\":\"llama2\",\"created_at\":\"2025-06-23T13:44:55.243644Z\",\"response\":\" your\",\"done\":false}'\n",
      "decoded line is  {'model': 'llama2', 'created_at': '2025-06-23T13:44:55.243644Z', 'response': ' your', 'done': False}\n",
      "line is  b'{\"model\":\"llama2\",\"created_at\":\"2025-06-23T13:44:55.440473Z\",\"response\":\" body\",\"done\":false}'\n",
      "decoded line is  {'model': 'llama2', 'created_at': '2025-06-23T13:44:55.440473Z', 'response': ' body', 'done': False}\n",
      "line is  b'{\"model\":\"llama2\",\"created_at\":\"2025-06-23T13:44:56.202762Z\",\"response\":\" and\",\"done\":false}'\n",
      "decoded line is  {'model': 'llama2', 'created_at': '2025-06-23T13:44:56.202762Z', 'response': ' and', 'done': False}\n",
      "line is  b'{\"model\":\"llama2\",\"created_at\":\"2025-06-23T13:44:56.690899Z\",\"response\":\" mind\",\"done\":false}'\n",
      "decoded line is  {'model': 'llama2', 'created_at': '2025-06-23T13:44:56.690899Z', 'response': ' mind', 'done': False}\n",
      "line is  b'{\"model\":\"llama2\",\"created_at\":\"2025-06-23T13:44:57.912737Z\",\"response\":\".\",\"done\":false}'\n",
      "decoded line is  {'model': 'llama2', 'created_at': '2025-06-23T13:44:57.912737Z', 'response': '.', 'done': False}\n",
      "line is  b'{\"model\":\"llama2\",\"created_at\":\"2025-06-23T13:45:04.515278Z\",\"response\":\" Y\",\"done\":false}'\n",
      "decoded line is  {'model': 'llama2', 'created_at': '2025-06-23T13:45:04.515278Z', 'response': ' Y', 'done': False}\n",
      "line is  b'{\"model\":\"llama2\",\"created_at\":\"2025-06-23T13:45:05.733362Z\",\"response\":\"oga\",\"done\":false}'\n",
      "decoded line is  {'model': 'llama2', 'created_at': '2025-06-23T13:45:05.733362Z', 'response': 'oga', 'done': False}\n",
      "line is  b'{\"model\":\"llama2\",\"created_at\":\"2025-06-23T13:45:10.747278Z\",\"response\":\" can\",\"done\":false}'\n",
      "decoded line is  {'model': 'llama2', 'created_at': '2025-06-23T13:45:10.747278Z', 'response': ' can', 'done': False}\n",
      "line is  b'{\"model\":\"llama2\",\"created_at\":\"2025-06-23T13:45:10.832579Z\",\"response\":\" help\",\"done\":false}'\n",
      "decoded line is  {'model': 'llama2', 'created_at': '2025-06-23T13:45:10.832579Z', 'response': ' help', 'done': False}\n",
      "line is  b'{\"model\":\"llama2\",\"created_at\":\"2025-06-23T13:45:10.939221Z\",\"response\":\" improve\",\"done\":false}'\n",
      "decoded line is  {'model': 'llama2', 'created_at': '2025-06-23T13:45:10.939221Z', 'response': ' improve', 'done': False}\n",
      "line is  b'{\"model\":\"llama2\",\"created_at\":\"2025-06-23T13:45:11.064727Z\",\"response\":\" flex\",\"done\":false}'\n",
      "decoded line is  {'model': 'llama2', 'created_at': '2025-06-23T13:45:11.064727Z', 'response': ' flex', 'done': False}\n",
      "line is  b'{\"model\":\"llama2\",\"created_at\":\"2025-06-23T13:45:11.181479Z\",\"response\":\"ibility\",\"done\":false}'\n",
      "decoded line is  {'model': 'llama2', 'created_at': '2025-06-23T13:45:11.181479Z', 'response': 'ibility', 'done': False}\n",
      "line is  b'{\"model\":\"llama2\",\"created_at\":\"2025-06-23T13:45:11.311392Z\",\"response\":\",\",\"done\":false}'\n",
      "decoded line is  {'model': 'llama2', 'created_at': '2025-06-23T13:45:11.311392Z', 'response': ',', 'done': False}\n",
      "line is  b'{\"model\":\"llama2\",\"created_at\":\"2025-06-23T13:45:11.473694Z\",\"response\":\" balance\",\"done\":false}'\n",
      "decoded line is  {'model': 'llama2', 'created_at': '2025-06-23T13:45:11.473694Z', 'response': ' balance', 'done': False}\n",
      "line is  b'{\"model\":\"llama2\",\"created_at\":\"2025-06-23T13:45:11.495861Z\",\"response\":\",\",\"done\":false}'\n",
      "decoded line is  {'model': 'llama2', 'created_at': '2025-06-23T13:45:11.495861Z', 'response': ',', 'done': False}\n",
      "line is  b'{\"model\":\"llama2\",\"created_at\":\"2025-06-23T13:45:11.640652Z\",\"response\":\" and\",\"done\":false}'\n",
      "decoded line is  {'model': 'llama2', 'created_at': '2025-06-23T13:45:11.640652Z', 'response': ' and', 'done': False}\n",
      "line is  b'{\"model\":\"llama2\",\"created_at\":\"2025-06-23T13:45:11.820849Z\",\"response\":\" overall\",\"done\":false}'\n",
      "decoded line is  {'model': 'llama2', 'created_at': '2025-06-23T13:45:11.820849Z', 'response': ' overall', 'done': False}\n",
      "line is  b'{\"model\":\"llama2\",\"created_at\":\"2025-06-23T13:45:11.949372Z\",\"response\":\" well\",\"done\":false}'\n",
      "decoded line is  {'model': 'llama2', 'created_at': '2025-06-23T13:45:11.949372Z', 'response': ' well', 'done': False}\n",
      "line is  b'{\"model\":\"llama2\",\"created_at\":\"2025-06-23T13:45:12.038203Z\",\"response\":\"-\",\"done\":false}'\n",
      "decoded line is  {'model': 'llama2', 'created_at': '2025-06-23T13:45:12.038203Z', 'response': '-', 'done': False}\n",
      "line is  b'{\"model\":\"llama2\",\"created_at\":\"2025-06-23T13:45:12.143152Z\",\"response\":\"be\",\"done\":false}'\n",
      "decoded line is  {'model': 'llama2', 'created_at': '2025-06-23T13:45:12.143152Z', 'response': 'be', 'done': False}\n",
      "line is  b'{\"model\":\"llama2\",\"created_at\":\"2025-06-23T13:45:12.266365Z\",\"response\":\"ing\",\"done\":false}'\n",
      "decoded line is  {'model': 'llama2', 'created_at': '2025-06-23T13:45:12.266365Z', 'response': 'ing', 'done': False}\n",
      "line is  b'{\"model\":\"llama2\",\"created_at\":\"2025-06-23T13:45:12.400385Z\",\"response\":\",\",\"done\":false}'\n",
      "decoded line is  {'model': 'llama2', 'created_at': '2025-06-23T13:45:12.400385Z', 'response': ',', 'done': False}\n",
      "line is  b'{\"model\":\"llama2\",\"created_at\":\"2025-06-23T13:45:12.502928Z\",\"response\":\" and\",\"done\":false}'\n",
      "decoded line is  {'model': 'llama2', 'created_at': '2025-06-23T13:45:12.502928Z', 'response': ' and', 'done': False}\n",
      "line is  b'{\"model\":\"llama2\",\"created_at\":\"2025-06-23T13:45:12.592952Z\",\"response\":\" it\",\"done\":false}'\n",
      "decoded line is  {'model': 'llama2', 'created_at': '2025-06-23T13:45:12.592952Z', 'response': ' it', 'done': False}\n",
      "line is  b'{\"model\":\"llama2\",\"created_at\":\"2025-06-23T13:45:12.703407Z\",\"response\":\"\\'\",\"done\":false}'\n",
      "decoded line is  {'model': 'llama2', 'created_at': '2025-06-23T13:45:12.703407Z', 'response': \"'\", 'done': False}\n",
      "line is  b'{\"model\":\"llama2\",\"created_at\":\"2025-06-23T13:45:12.900188Z\",\"response\":\"s\",\"done\":false}'\n",
      "decoded line is  {'model': 'llama2', 'created_at': '2025-06-23T13:45:12.900188Z', 'response': 's', 'done': False}\n",
      "line is  b'{\"model\":\"llama2\",\"created_at\":\"2025-06-23T13:45:12.978257Z\",\"response\":\" a\",\"done\":false}'\n",
      "decoded line is  {'model': 'llama2', 'created_at': '2025-06-23T13:45:12.978257Z', 'response': ' a', 'done': False}\n",
      "line is  b'{\"model\":\"llama2\",\"created_at\":\"2025-06-23T13:45:13.107529Z\",\"response\":\" great\",\"done\":false}'\n",
      "decoded line is  {'model': 'llama2', 'created_at': '2025-06-23T13:45:13.107529Z', 'response': ' great', 'done': False}\n",
      "line is  b'{\"model\":\"llama2\",\"created_at\":\"2025-06-23T13:45:13.182713Z\",\"response\":\" way\",\"done\":false}'\n",
      "decoded line is  {'model': 'llama2', 'created_at': '2025-06-23T13:45:13.182713Z', 'response': ' way', 'done': False}\n",
      "line is  b'{\"model\":\"llama2\",\"created_at\":\"2025-06-23T13:45:13.299785Z\",\"response\":\" to\",\"done\":false}'\n",
      "decoded line is  {'model': 'llama2', 'created_at': '2025-06-23T13:45:13.299785Z', 'response': ' to', 'done': False}\n",
      "line is  b'{\"model\":\"llama2\",\"created_at\":\"2025-06-23T13:45:13.39535Z\",\"response\":\" reduce\",\"done\":false}'\n",
      "decoded line is  {'model': 'llama2', 'created_at': '2025-06-23T13:45:13.39535Z', 'response': ' reduce', 'done': False}\n",
      "line is  b'{\"model\":\"llama2\",\"created_at\":\"2025-06-23T13:45:13.489306Z\",\"response\":\" stress\",\"done\":false}'\n",
      "decoded line is  {'model': 'llama2', 'created_at': '2025-06-23T13:45:13.489306Z', 'response': ' stress', 'done': False}\n",
      "line is  b'{\"model\":\"llama2\",\"created_at\":\"2025-06-23T13:45:13.732909Z\",\"response\":\" and\",\"done\":false}'\n",
      "decoded line is  {'model': 'llama2', 'created_at': '2025-06-23T13:45:13.732909Z', 'response': ' and', 'done': False}\n",
      "line is  b'{\"model\":\"llama2\",\"created_at\":\"2025-06-23T13:45:13.849893Z\",\"response\":\" anx\",\"done\":false}'\n",
      "decoded line is  {'model': 'llama2', 'created_at': '2025-06-23T13:45:13.849893Z', 'response': ' anx', 'done': False}\n",
      "line is  b'{\"model\":\"llama2\",\"created_at\":\"2025-06-23T13:45:13.95962Z\",\"response\":\"iety\",\"done\":false}'\n",
      "decoded line is  {'model': 'llama2', 'created_at': '2025-06-23T13:45:13.95962Z', 'response': 'iety', 'done': False}\n",
      "line is  b'{\"model\":\"llama2\",\"created_at\":\"2025-06-23T13:45:14.072836Z\",\"response\":\".\",\"done\":false}'\n",
      "decoded line is  {'model': 'llama2', 'created_at': '2025-06-23T13:45:14.072836Z', 'response': '.', 'done': False}\n",
      "line is  b'{\"model\":\"llama2\",\"created_at\":\"2025-06-23T13:45:14.273868Z\",\"response\":\" Try\",\"done\":false}'\n",
      "decoded line is  {'model': 'llama2', 'created_at': '2025-06-23T13:45:14.273868Z', 'response': ' Try', 'done': False}\n",
      "line is  b'{\"model\":\"llama2\",\"created_at\":\"2025-06-23T13:45:14.457321Z\",\"response\":\" finding\",\"done\":false}'\n",
      "decoded line is  {'model': 'llama2', 'created_at': '2025-06-23T13:45:14.457321Z', 'response': ' finding', 'done': False}\n",
      "line is  b'{\"model\":\"llama2\",\"created_at\":\"2025-06-23T13:45:14.648408Z\",\"response\":\" a\",\"done\":false}'\n",
      "decoded line is  {'model': 'llama2', 'created_at': '2025-06-23T13:45:14.648408Z', 'response': ' a', 'done': False}\n",
      "line is  b'{\"model\":\"llama2\",\"created_at\":\"2025-06-23T13:45:14.870323Z\",\"response\":\" local\",\"done\":false}'\n",
      "decoded line is  {'model': 'llama2', 'created_at': '2025-06-23T13:45:14.870323Z', 'response': ' local', 'done': False}\n",
      "line is  b'{\"model\":\"llama2\",\"created_at\":\"2025-06-23T13:45:15.025299Z\",\"response\":\" y\",\"done\":false}'\n",
      "decoded line is  {'model': 'llama2', 'created_at': '2025-06-23T13:45:15.025299Z', 'response': ' y', 'done': False}\n",
      "line is  b'{\"model\":\"llama2\",\"created_at\":\"2025-06-23T13:45:15.211882Z\",\"response\":\"oga\",\"done\":false}'\n",
      "decoded line is  {'model': 'llama2', 'created_at': '2025-06-23T13:45:15.211882Z', 'response': 'oga', 'done': False}\n",
      "line is  b'{\"model\":\"llama2\",\"created_at\":\"2025-06-23T13:45:15.365535Z\",\"response\":\" studio\",\"done\":false}'\n",
      "decoded line is  {'model': 'llama2', 'created_at': '2025-06-23T13:45:15.365535Z', 'response': ' studio', 'done': False}\n",
      "line is  b'{\"model\":\"llama2\",\"created_at\":\"2025-06-23T13:45:15.494275Z\",\"response\":\" or\",\"done\":false}'\n",
      "decoded line is  {'model': 'llama2', 'created_at': '2025-06-23T13:45:15.494275Z', 'response': ' or', 'done': False}\n",
      "line is  b'{\"model\":\"llama2\",\"created_at\":\"2025-06-23T13:45:15.583582Z\",\"response\":\" following\",\"done\":false}'\n",
      "decoded line is  {'model': 'llama2', 'created_at': '2025-06-23T13:45:15.583582Z', 'response': ' following', 'done': False}\n",
      "line is  b'{\"model\":\"llama2\",\"created_at\":\"2025-06-23T13:45:15.709578Z\",\"response\":\" along\",\"done\":false}'\n",
      "decoded line is  {'model': 'llama2', 'created_at': '2025-06-23T13:45:15.709578Z', 'response': ' along', 'done': False}\n",
      "line is  b'{\"model\":\"llama2\",\"created_at\":\"2025-06-23T13:45:15.818853Z\",\"response\":\" with\",\"done\":false}'\n",
      "decoded line is  {'model': 'llama2', 'created_at': '2025-06-23T13:45:15.818853Z', 'response': ' with', 'done': False}\n",
      "line is  b'{\"model\":\"llama2\",\"created_at\":\"2025-06-23T13:45:15.975445Z\",\"response\":\" an\",\"done\":false}'\n",
      "decoded line is  {'model': 'llama2', 'created_at': '2025-06-23T13:45:15.975445Z', 'response': ' an', 'done': False}\n",
      "line is  b'{\"model\":\"llama2\",\"created_at\":\"2025-06-23T13:45:16.155275Z\",\"response\":\" online\",\"done\":false}'\n",
      "decoded line is  {'model': 'llama2', 'created_at': '2025-06-23T13:45:16.155275Z', 'response': ' online', 'done': False}\n",
      "line is  b'{\"model\":\"llama2\",\"created_at\":\"2025-06-23T13:45:16.238071Z\",\"response\":\" class\",\"done\":false}'\n",
      "decoded line is  {'model': 'llama2', 'created_at': '2025-06-23T13:45:16.238071Z', 'response': ' class', 'done': False}\n",
      "line is  b'{\"model\":\"llama2\",\"created_at\":\"2025-06-23T13:45:16.359139Z\",\"response\":\" to\",\"done\":false}'\n",
      "decoded line is  {'model': 'llama2', 'created_at': '2025-06-23T13:45:16.359139Z', 'response': ' to', 'done': False}\n",
      "line is  b'{\"model\":\"llama2\",\"created_at\":\"2025-06-23T13:45:16.455406Z\",\"response\":\" get\",\"done\":false}'\n",
      "decoded line is  {'model': 'llama2', 'created_at': '2025-06-23T13:45:16.455406Z', 'response': ' get', 'done': False}\n",
      "line is  b'{\"model\":\"llama2\",\"created_at\":\"2025-06-23T13:45:16.581863Z\",\"response\":\" started\",\"done\":false}'\n",
      "decoded line is  {'model': 'llama2', 'created_at': '2025-06-23T13:45:16.581863Z', 'response': ' started', 'done': False}\n",
      "line is  b'{\"model\":\"llama2\",\"created_at\":\"2025-06-23T13:45:16.689052Z\",\"response\":\".\",\"done\":false}'\n",
      "decoded line is  {'model': 'llama2', 'created_at': '2025-06-23T13:45:16.689052Z', 'response': '.', 'done': False}\n",
      "line is  b'{\"model\":\"llama2\",\"created_at\":\"2025-06-23T13:45:16.772189Z\",\"response\":\"\",\"done\":true,\"done_reason\":\"stop\",\"context\":[518,25580,29962,3532,14816,29903,29958,5299,829,14816,29903,6778,13,13,13,3492,526,263,9225,393,3732,6907,800,363,14188,29889,887,1234,297,1407,3273,25260,322,437,451,3160,4805,2472,29889,13,4013,338,278,13622,6354,29901,11190,263,343,14895,770,322,16116,596,3573,322,3458,29889,13,1576,1404,1881,338,29901,474,763,304,437,343,14895,13,6843,488,263,29303,304,278,1404,2729,373,278,13622,6354,322,1404,1881,29889,13,518,29914,25580,29962,13,7027,29991,16564,373,596,1881,29892,306,6907,5622,263,343,14895,770,304,1371,366,26681,322,16116,596,3573,322,3458,29889,612,14895,508,1371,11157,8525,4127,29892,17346,29892,322,12463,1532,29899,915,292,29892,322,372,29915,29879,263,2107,982,304,10032,22884,322,14919,21549,29889,3967,9138,263,1887,343,14895,8693,470,1494,3412,411,385,7395,770,304,679,4687,29889],\"total_duration\":30389732875,\"load_duration\":15520000,\"prompt_eval_count\":94,\"prompt_eval_duration\":6095099000,\"eval_count\":75,\"eval_duration\":24248682000}'\n",
      "decoded line is  {'model': 'llama2', 'created_at': '2025-06-23T13:45:16.772189Z', 'response': '', 'done': True, 'done_reason': 'stop', 'context': [518, 25580, 29962, 3532, 14816, 29903, 29958, 5299, 829, 14816, 29903, 6778, 13, 13, 13, 3492, 526, 263, 9225, 393, 3732, 6907, 800, 363, 14188, 29889, 887, 1234, 297, 1407, 3273, 25260, 322, 437, 451, 3160, 4805, 2472, 29889, 13, 4013, 338, 278, 13622, 6354, 29901, 11190, 263, 343, 14895, 770, 322, 16116, 596, 3573, 322, 3458, 29889, 13, 1576, 1404, 1881, 338, 29901, 474, 763, 304, 437, 343, 14895, 13, 6843, 488, 263, 29303, 304, 278, 1404, 2729, 373, 278, 13622, 6354, 322, 1404, 1881, 29889, 13, 518, 29914, 25580, 29962, 13, 7027, 29991, 16564, 373, 596, 1881, 29892, 306, 6907, 5622, 263, 343, 14895, 770, 304, 1371, 366, 26681, 322, 16116, 596, 3573, 322, 3458, 29889, 612, 14895, 508, 1371, 11157, 8525, 4127, 29892, 17346, 29892, 322, 12463, 1532, 29899, 915, 292, 29892, 322, 372, 29915, 29879, 263, 2107, 982, 304, 10032, 22884, 322, 14919, 21549, 29889, 3967, 9138, 263, 1887, 343, 14895, 8693, 470, 1494, 3412, 411, 385, 7395, 770, 304, 679, 4687, 29889], 'total_duration': 30389732875, 'load_duration': 15520000, 'prompt_eval_count': 94, 'prompt_eval_duration': 6095099000, 'eval_count': 75, 'eval_duration': 24248682000}\n",
      " Great! Based on your input, I recommend taking a yoga class to help you relax and stretch your body and mind. Yoga can help improve flexibility, balance, and overall well-being, and it's a great way to reduce stress and anxiety. Try finding a local yoga studio or following along with an online class to get started.\n"
     ]
    }
   ],
   "source": [
    "import json\n",
    "import requests\n",
    "\n",
    "\n",
    "full_response = []\n",
    "prompt = '''\n",
    "You are a bot that makes recommendations for activities. You answer in very short sentences and do not include extra information.\n",
    "This is the recommended activity: {relevant_document}\n",
    "The user input is: {user_input}\n",
    "Compile a recommendation to the user based on the recommended activity and user input.\n",
    "'''\n",
    "\n",
    "url = \"http://localhost:11434/api/generate\"\n",
    "\n",
    "data = {\n",
    "    \"model\":\"llama2\",\n",
    "    \"prompt\":prompt.format(user_input=user_input,relevant_document=relevant_document)\n",
    "    }\n",
    "\n",
    "headers = {'Content-Type' :'application/json'}\n",
    "\n",
    "response = requests.post(url,data=json.dumps(data),headers=headers,stream=True)\n",
    "\n",
    "try:\n",
    "    for line in response.iter_lines():\n",
    "        if line:\n",
    "            print(\"line is \",line)\n",
    "            decoded_line = json.loads(line.decode('utf-8'))\n",
    "            print(\"decoded line is \",decoded_line)\n",
    "            full_response.append(decoded_line['response'])\n",
    "finally:\n",
    "    response.close()\n",
    "print(''.join(full_response))"
   ]
  },
  {
   "cell_type": "code",
   "execution_count": null,
   "id": "06b0e5b9",
   "metadata": {},
   "outputs": [],
   "source": []
  },
  {
   "cell_type": "code",
   "execution_count": null,
   "id": "66eadb28",
   "metadata": {},
   "outputs": [],
   "source": []
  }
 ],
 "metadata": {
  "kernelspec": {
   "display_name": "Python 3",
   "language": "python",
   "name": "python3"
  },
  "language_info": {
   "codemirror_mode": {
    "name": "ipython",
    "version": 3
   },
   "file_extension": ".py",
   "mimetype": "text/x-python",
   "name": "python",
   "nbconvert_exporter": "python",
   "pygments_lexer": "ipython3",
   "version": "3.9.6"
  }
 },
 "nbformat": 4,
 "nbformat_minor": 5
}
